{
 "cells": [
  {
   "cell_type": "markdown",
   "id": "f39c7888",
   "metadata": {},
   "source": []
  },
  {
   "cell_type": "code",
   "execution_count": 21,
   "id": "15ef0adf",
   "metadata": {},
   "outputs": [
    {
     "name": "stdout",
     "output_type": "stream",
     "text": [
      "basic slicing\n",
      "[1 2 3 4 5]\n",
      "sliced array:\n",
      " [2 3]\n"
     ]
    }
   ],
   "source": [
    "import numpy as np\n",
    "a = np.array([1, 2, 3, 4, 5])\n",
    "print('basic slicing')\n",
    "print(a)\n",
    "print('sliced array:\\n',a[1:3])"
   ]
  },
  {
   "cell_type": "code",
   "execution_count": 22,
   "id": "7b2378a0",
   "metadata": {},
   "outputs": [
    {
     "name": "stdout",
     "output_type": "stream",
     "text": [
      "2d array:\n",
      " [[1 2 3]\n",
      " [4 5 6]\n",
      " [7 8 9]]\n",
      "sliced array:\n",
      " 3\n",
      "entire first row:\n",
      " [1 2 3]\n",
      "entire first column:\n",
      " [1 4 7]\n"
     ]
    }
   ],
   "source": [
    "# 2d array \n",
    "\n",
    "arr_2d = np.array([[1, 2, 3], [4, 5, 6], [7, 8, 9]])\n",
    "print('2d array:\\n',arr_2d)\n",
    "print('sliced array:\\n',arr_2d[0,2])\n",
    "print('entire first row:\\n',arr_2d[0,:])\n",
    "print('entire first column:\\n',arr_2d[:,0])"
   ]
  },
  {
   "cell_type": "code",
   "execution_count": 23,
   "id": "7a7d9b45",
   "metadata": {},
   "outputs": [
    {
     "name": "stdout",
     "output_type": "stream",
     "text": [
      "unsorted array:\n",
      " [3 1 4 2 5]\n",
      "sorted array:\n",
      " [1 2 3 4 5]\n",
      "unsorted 2d array:\n",
      " [[3 1 4]\n",
      " [2 5 0]]\n",
      "sorted 2d array:\n",
      " [[2 1 0]\n",
      " [3 5 4]]\n"
     ]
    }
   ],
   "source": [
    "# Sorting \n",
    "unsorted_arr = np.array([3, 1, 4, 2, 5])\n",
    "sorted_arr = np.sort(unsorted_arr)\n",
    "print('unsorted array:\\n',unsorted_arr)\n",
    "print('sorted array:\\n',sorted_arr)\n",
    "\n",
    "arr_2d_unsorted = np.array([[3, 1, 4], [2, 5, 0]])\n",
    "sorted_arr_2d = np.sort(arr_2d_unsorted, axis=0)\n",
    "print('unsorted 2d array:\\n',arr_2d_unsorted)\n",
    "print('sorted 2d array:\\n',sorted_arr_2d)"
   ]
  },
  {
   "cell_type": "code",
   "execution_count": 24,
   "id": "16bc0160",
   "metadata": {},
   "outputs": [
    {
     "name": "stdout",
     "output_type": "stream",
     "text": [
      "original array:\n",
      " [ 1  2  3  4  5  6  7  8  9 10]\n",
      "filtered array:\n",
      " [ 2  4  6  8 10]\n",
      "filtered numbers:\n",
      " [ 6  7  8  9 10]\n"
     ]
    }
   ],
   "source": [
    "# filter\n",
    "numbers = np.array([1, 2, 3, 4, 5, 6, 7, 8, 9, 10])\n",
    "even_numbers = numbers[numbers % 2 == 0]\n",
    "print('original array:\\n',numbers)\n",
    "print('filtered array:\\n',even_numbers)\n",
    "\n",
    "# filter with mask \n",
    "\n",
    "mask=numbers>5\n",
    "filtered_numbers=numbers[mask]\n",
    "print('filtered numbers:\\n',filtered_numbers)"
   ]
  },
  {
   "cell_type": "code",
   "execution_count": null,
   "id": "c70bf4b6",
   "metadata": {},
   "outputs": [
    {
     "name": "stdout",
     "output_type": "stream",
     "text": [
      "where indices:\n",
      " (array([2, 3, 4]),)\n",
      "condition array:\n",
      " [ 10  20  60  80 100]\n"
     ]
    }
   ],
   "source": [
    "# fancy indexing vs np.where\n",
    "arr = np.array([10, 20, 30, 40, 50])\n",
    "where_indices = np.where(arr > 25)\n",
    "print('where indices:\\n',where_indices)\n",
    "\n",
    "condition_array=np.where(arr>25, arr)\n",
    "print('condition array:\\n',condition_array)\n"
   ]
  },
  {
   "cell_type": "code",
   "execution_count": 38,
   "id": "fe758df3",
   "metadata": {},
   "outputs": [
    {
     "name": "stdout",
     "output_type": "stream",
     "text": [
      "combined array:\n",
      " [1 2 3 4 5 6]\n",
      "compatibility check for stacking True\n",
      "with new row:\n",
      " [[1 2]\n",
      " [3 4]\n",
      " [5 6]]\n",
      "with new column:\n",
      " [[1 2 7]\n",
      " [3 4 8]]\n",
      "after deletion:\n",
      " [1 2 4 5]\n"
     ]
    }
   ],
   "source": [
    "# adding and removing data \n",
    "arr = np.array([1, 2, 3])\n",
    "arr1=np.array([4,5,6])\n",
    "\n",
    "combined=np.concatenate((arr, arr1))\n",
    "print('combined array:\\n',combined)\n",
    "print(\"compatibility check for stacking\",arr.shape == arr1.shape)\n",
    "\n",
    "original=np.array([[1, 2], [3, 4]])\n",
    "new_row = np.array([[5, 6]])\n",
    "with_new_row = np.vstack((original, new_row))\n",
    "print('with new row:\\n',with_new_row)\n",
    "withnewcol = np.hstack((original, np.array([[7], [8]])))\n",
    "print('with new column:\\n',withnewcol)\n",
    "\n",
    "\n",
    "# deletion\n",
    "\n",
    "arr = np.array([1, 2, 3, 4, 5])\n",
    "arr_after_deletion = np.delete(arr, 2)  # Delete element at index\n",
    "print('after deletion:\\n',arr_after_deletion)\n"
   ]
  }
 ],
 "metadata": {
  "kernelspec": {
   "display_name": "env",
   "language": "python",
   "name": "python3"
  },
  "language_info": {
   "codemirror_mode": {
    "name": "ipython",
    "version": 3
   },
   "file_extension": ".py",
   "mimetype": "text/x-python",
   "name": "python",
   "nbconvert_exporter": "python",
   "pygments_lexer": "ipython3",
   "version": "3.13.5"
  }
 },
 "nbformat": 4,
 "nbformat_minor": 5
}
