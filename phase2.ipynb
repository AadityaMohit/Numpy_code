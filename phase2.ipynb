{
 "cells": [
  {
   "cell_type": "markdown",
   "id": "f39c7888",
   "metadata": {},
   "source": []
  },
  {
   "cell_type": "code",
   "execution_count": 1,
   "id": "15ef0adf",
   "metadata": {},
   "outputs": [
    {
     "name": "stdout",
     "output_type": "stream",
     "text": [
      "basic slicing\n",
      "[1 2 3 4 5]\n",
      "sliced array:\n",
      " [2 3]\n"
     ]
    }
   ],
   "source": [
    "import numpy as np\n",
    "a = np.array([1, 2, 3, 4, 5])\n",
    "print('basic slicing')\n",
    "print(a)\n",
    "print('sliced array:\\n',a[1:3])"
   ]
  },
  {
   "cell_type": "code",
   "execution_count": 6,
   "id": "7b2378a0",
   "metadata": {},
   "outputs": [
    {
     "name": "stdout",
     "output_type": "stream",
     "text": [
      "2d array:\n",
      " [[1 2 3]\n",
      " [4 5 6]\n",
      " [7 8 9]]\n",
      "sliced array:\n",
      " 3\n",
      "entire first row:\n",
      " [1 2 3]\n",
      "entire first column:\n",
      " [1 4 7]\n"
     ]
    }
   ],
   "source": [
    "# 2d array \n",
    "\n",
    "arr_2d = np.array([[1, 2, 3], [4, 5, 6], [7, 8, 9]])\n",
    "print('2d array:\\n',arr_2d)\n",
    "print('sliced array:\\n',arr_2d[0,2])\n",
    "print('entire first row:\\n',arr_2d[0,:])\n",
    "print('entire first column:\\n',arr_2d[:,0])"
   ]
  },
  {
   "cell_type": "code",
   "execution_count": 10,
   "id": "7a7d9b45",
   "metadata": {},
   "outputs": [
    {
     "name": "stdout",
     "output_type": "stream",
     "text": [
      "unsorted array:\n",
      " [3 1 4 2 5]\n",
      "sorted array:\n",
      " [1 2 3 4 5]\n",
      "unsorted 2d array:\n",
      " [[3 1 4]\n",
      " [2 5 0]]\n",
      "sorted 2d array:\n",
      " [[2 1 0]\n",
      " [3 5 4]]\n"
     ]
    }
   ],
   "source": [
    "# Sorting \n",
    "unsorted_arr = np.array([3, 1, 4, 2, 5])\n",
    "sorted_arr = np.sort(unsorted_arr)\n",
    "print('unsorted array:\\n',unsorted_arr)\n",
    "print('sorted array:\\n',sorted_arr)\n",
    "\n",
    "arr_2d_unsorted = np.array([[3, 1, 4], [2, 5, 0]])\n",
    "sorted_arr_2d = np.sort(arr_2d_unsorted, axis=0)\n",
    "print('unsorted 2d array:\\n',arr_2d_unsorted)\n",
    "print('sorted 2d array:\\n',sorted_arr_2d)"
   ]
  },
  {
   "cell_type": "code",
   "execution_count": 12,
   "id": "16bc0160",
   "metadata": {},
   "outputs": [
    {
     "name": "stdout",
     "output_type": "stream",
     "text": [
      "original array:\n",
      " [ 1  2  3  4  5  6  7  8  9 10]\n",
      "filtered array:\n",
      " [ 2  4  6  8 10]\n",
      "filtered numbers:\n",
      " [ 6  7  8  9 10]\n"
     ]
    }
   ],
   "source": [
    "# filter\n",
    "numbers = np.array([1, 2, 3, 4, 5, 6, 7, 8, 9, 10])\n",
    "even_numbers = numbers[numbers % 2 == 0]\n",
    "print('original array:\\n',numbers)\n",
    "print('filtered array:\\n',even_numbers)\n",
    "\n",
    "# filter with mask \n",
    "\n",
    "mask=numbers>5\n",
    "filtered_numbers=numbers[mask]\n",
    "print('filtered numbers:\\n',filtered_numbers)"
   ]
  },
  {
   "cell_type": "code",
   "execution_count": null,
   "id": "c70bf4b6",
   "metadata": {},
   "outputs": [
    {
     "name": "stdout",
     "output_type": "stream",
     "text": [
      "where indices:\n",
      " (array([2, 3, 4]),)\n"
     ]
    },
    {
     "ename": "ValueError",
     "evalue": "either both or neither of x and y should be given",
     "output_type": "error",
     "traceback": [
      "\u001b[31m---------------------------------------------------------------------------\u001b[39m",
      "\u001b[31mValueError\u001b[39m                                Traceback (most recent call last)",
      "\u001b[36mCell\u001b[39m\u001b[36m \u001b[39m\u001b[32mIn[16]\u001b[39m\u001b[32m, line 6\u001b[39m\n\u001b[32m      3\u001b[39m where_indices = np.where(arr > \u001b[32m25\u001b[39m)\n\u001b[32m      4\u001b[39m \u001b[38;5;28mprint\u001b[39m(\u001b[33m'\u001b[39m\u001b[33mwhere indices:\u001b[39m\u001b[38;5;130;01m\\n\u001b[39;00m\u001b[33m'\u001b[39m,where_indices)\n\u001b[32m----> \u001b[39m\u001b[32m6\u001b[39m condition_array=\u001b[43mnp\u001b[49m\u001b[43m.\u001b[49m\u001b[43mwhere\u001b[49m\u001b[43m(\u001b[49m\u001b[43marr\u001b[49m\u001b[43m>\u001b[49m\u001b[32;43m25\u001b[39;49m\u001b[43m,\u001b[49m\u001b[43m \u001b[49m\u001b[43marr\u001b[49m\u001b[43m)\u001b[49m\n\u001b[32m      7\u001b[39m \u001b[38;5;28mprint\u001b[39m(\u001b[33m'\u001b[39m\u001b[33mcondition array:\u001b[39m\u001b[38;5;130;01m\\n\u001b[39;00m\u001b[33m'\u001b[39m,condition_array)\n",
      "\u001b[31mValueError\u001b[39m: either both or neither of x and y should be given"
     ]
    }
   ],
   "source": [
    "# fancy indexing vs np.where\n",
    "arr = np.array([10, 20, 30, 40, 50])\n",
    "where_indices = np.where(arr > 25)\n",
    "print('where indices:\\n',where_indices)\n",
    "\n",
    "condition_array=np.where(arr>25, arr, -1)\n",
    "print('condition array:\\n',condition_array)\n"
   ]
  }
 ],
 "metadata": {
  "kernelspec": {
   "display_name": "env",
   "language": "python",
   "name": "python3"
  },
  "language_info": {
   "codemirror_mode": {
    "name": "ipython",
    "version": 3
   },
   "file_extension": ".py",
   "mimetype": "text/x-python",
   "name": "python",
   "nbconvert_exporter": "python",
   "pygments_lexer": "ipython3",
   "version": "3.13.5"
  }
 },
 "nbformat": 4,
 "nbformat_minor": 5
}
