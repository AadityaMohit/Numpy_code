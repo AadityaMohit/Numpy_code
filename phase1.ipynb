{
 "cells": [
  {
   "cell_type": "code",
   "execution_count": null,
   "id": "399a8da0",
   "metadata": {},
   "outputs": [],
   "source": [
    "import time\n",
    "import numpy as np\n",
    "\n",
    "print('numpy version:', np.__version__)\n",
    "\n",
    "# small smoke test\n",
    "arr = np.arange(6).reshape(2,3)\n",
    "print('array:\\n', arr)\n"
   ]
  },
  {
   "cell_type": "code",
   "execution_count": 31,
   "id": "1a989c4f",
   "metadata": {},
   "outputs": [
    {
     "name": "stdout",
     "output_type": "stream",
     "text": [
      "[ 2  4  6  8 10]\n",
      "list [[  2  46  68]\n",
      " [ 66 446  90]]\n",
      "[ 1  2  3  4  5  6  7  8  9 10 11 12 13 14 15 16 17 18 19 20 21 22 23 24\n",
      " 25 26 27 28 29 30 31 32 33 34 35 36 37 38 39 40 41 42 43 44 45 46 47 48\n",
      " 49 50 51 52 53 54 55 56 57 58 59 60 61 62 63 64 65 66 67 68 69 70 71 72\n",
      " 73 74 75 76 77 78 79 80 81 82 83 84 85 86 87 88 89 90 91 92 93 94 95 96\n",
      " 97 98 99]\n",
      "time taken: 0.001758575439453125\n"
     ]
    }
   ],
   "source": [
    "import time \n",
    "arr=np.array([1,2,3,4,5])\n",
    "darr=np.array([[1,23,34],[33,223,45]])\n",
    "start=time.time()\n",
    "print(arr*2)\n",
    "print('list',darr*2)\n",
    "np_array=np.arange(1,100)\n",
    "print(np_array)\n",
    "print('time taken:',time.time()-start)"
   ]
  },
  {
   "cell_type": "code",
   "execution_count": 49,
   "id": "ad2ca285",
   "metadata": {},
   "outputs": [
    {
     "name": "stdout",
     "output_type": "stream",
     "text": [
      "vector:\n",
      " [1 2 3]\n",
      "matrix:\n",
      " [[1 2 3]\n",
      " [4 5 6]\n",
      " [7 8 9]]\n",
      "tensor:\n",
      " [[[ 1  2]\n",
      "  [ 3  4]]\n",
      "\n",
      " [[ 5  6]\n",
      "  [ 7  8]]\n",
      "\n",
      " [[ 9 10]\n",
      "  [11 12]]]\n"
     ]
    }
   ],
   "source": [
    "# vector,matrix and tensor \n",
    "\n",
    "vector = np.array([1,2,3])\n",
    "matrix = np.array([[1,2,3],[4,5,6],[7,8,9]])\n",
    "tensor = np.array([[[1,2],[3,4]],[[5,6],[7,8]],[[9,10],[11,12]]])\n",
    "print('vector:\\n',vector)\n",
    "print('matrix:\\n',matrix) \n",
    "print('tensor:\\n',tensor)"
   ]
  },
  {
   "cell_type": "code",
   "execution_count": 51,
   "id": "3fbcf9ff",
   "metadata": {},
   "outputs": [
    {
     "name": "stdout",
     "output_type": "stream",
     "text": [
      "array:\n",
      " [[1 2 3]\n",
      " [4 5 6]]\n",
      "shape: (2, 3)\n",
      "size: 6\n",
      "dtype: int64\n"
     ]
    }
   ],
   "source": [
    "# Array properties \n",
    "\n",
    "arr=np.array([[1,2,3],[4,5,6]])\n",
    "print('array:\\n',arr)\n",
    "print('shape:',arr.shape)\n",
    "print('size:',arr.size)\n",
    "print('dtype:',arr.dtype)"
   ]
  },
  {
   "cell_type": "code",
   "execution_count": null,
   "id": "da312471",
   "metadata": {},
   "outputs": [
    {
     "name": "stdout",
     "output_type": "stream",
     "text": [
      "original array:\n",
      " [ 1  2  3  4  5  6  7  8  9 10]\n",
      "reshaped array:\n",
      " [[ 1  2  3  4  5]\n",
      " [ 6  7  8  9 10]]\n",
      "reshaped array:\n",
      " [[ 1  2]\n",
      " [ 3  4]\n",
      " [ 5  6]\n",
      " [ 7  8]\n",
      " [ 9 10]]\n",
      "Flattened array:\n",
      " [ 1  2  3  4  5  6  7  8  9 10]\n"
     ]
    }
   ],
   "source": [
    "# Array Reshaping \n",
    "import numpy as np\n",
    "arr=np.arange(1,11)\n",
    "print('original array:\\n',arr)\n",
    "print('reshaped array:\\n',arr.reshape(2,5))\n",
    "print('reshaped array:\\n',arr.reshape(5,2))\n",
    "print('Flattened array:\\n',arr.reshape(5,2).flatten())\n",
    "print('raval array:\\n',arr.reshape(5,2).ravel())"
   ]
  },
  {
   "cell_type": "code",
   "execution_count": null,
   "id": "cc4266aa",
   "metadata": {},
   "outputs": [],
   "source": [
    "# creating array from scratch \n",
    "zeros=np.zeros((3,4))\n",
    "print('zeros:\\n',zeros)\n",
    "\n",
    "ones=np.ones((2,3))\n",
    "print('ones:\\n',ones)\n",
    "\n",
    "\n",
    "full=np.full((3,4),8)\n",
    "print('full:\\n',full)\n",
    "\n",
    "random=np.random.random((2,3))\n",
    "print('random:\\n',random)\n",
    "\n",
    "seq=np.arange(1,10,2)\n",
    "print('seq:\\n',seq)\n"
   ]
  },
  {
   "cell_type": "markdown",
   "id": "d9c16ea1",
   "metadata": {},
   "source": [
    "<!-- Array Reshaping -->"
   ]
  },
  {
   "cell_type": "code",
   "execution_count": null,
   "id": "69df8298",
   "metadata": {},
   "outputs": [],
   "source": []
  }
 ],
 "metadata": {
  "kernelspec": {
   "display_name": "env",
   "language": "python",
   "name": "python3"
  },
  "language_info": {
   "codemirror_mode": {
    "name": "ipython",
    "version": 3
   },
   "file_extension": ".py",
   "mimetype": "text/x-python",
   "name": "python",
   "nbconvert_exporter": "python",
   "pygments_lexer": "ipython3",
   "version": "3.13.5"
  }
 },
 "nbformat": 4,
 "nbformat_minor": 5
}
